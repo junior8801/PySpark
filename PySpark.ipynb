{
  "nbformat": 4,
  "nbformat_minor": 0,
  "metadata": {
    "colab": {
      "name": "PySpark.ipynb",
      "provenance": [],
      "authorship_tag": "ABX9TyMxrCoW3sc98tBxzTrD+wFd",
      "include_colab_link": true
    },
    "kernelspec": {
      "name": "python3",
      "display_name": "Python 3"
    },
    "language_info": {
      "name": "python"
    }
  },
  "cells": [
    {
      "cell_type": "markdown",
      "metadata": {
        "id": "view-in-github",
        "colab_type": "text"
      },
      "source": [
        "<a href=\"https://colab.research.google.com/github/junior8801/PySpark/blob/main/PySpark.ipynb\" target=\"_parent\"><img src=\"https://colab.research.google.com/assets/colab-badge.svg\" alt=\"Open In Colab\"/></a>"
      ]
    },
    {
      "cell_type": "markdown",
      "metadata": {
        "id": "x3yGxy-lgo8C"
      },
      "source": [
        "## Utilizando Spark"
      ]
    },
    {
      "cell_type": "markdown",
      "metadata": {
        "id": "ytAIXm024XH2"
      },
      "source": [
        "Neste notebook será utilizado o PySpark para execução de comandos SQL em uma base de dados."
      ]
    },
    {
      "cell_type": "code",
      "metadata": {
        "colab": {
          "base_uri": "https://localhost:8080/"
        },
        "id": "EL4pMuIJkfyI",
        "outputId": "d775d7a1-949e-43dc-a524-ccf35ca28a9e"
      },
      "source": [
        "!pip install wget"
      ],
      "execution_count": 4,
      "outputs": [
        {
          "output_type": "stream",
          "name": "stdout",
          "text": [
            "Collecting wget\n",
            "  Downloading wget-3.2.zip (10 kB)\n",
            "Building wheels for collected packages: wget\n",
            "  Building wheel for wget (setup.py) ... \u001b[?25l\u001b[?25hdone\n",
            "  Created wheel for wget: filename=wget-3.2-py3-none-any.whl size=9672 sha256=1c02e068dbbb9e59055f8c20af8f66308a5de614ad2fada190ffacd7c031a872\n",
            "  Stored in directory: /root/.cache/pip/wheels/a1/b6/7c/0e63e34eb06634181c63adacca38b79ff8f35c37e3c13e3c02\n",
            "Successfully built wget\n",
            "Installing collected packages: wget\n",
            "Successfully installed wget-3.2\n"
          ]
        }
      ]
    },
    {
      "cell_type": "code",
      "metadata": {
        "colab": {
          "base_uri": "https://localhost:8080/"
        },
        "id": "agj6-g9-gkp2",
        "outputId": "ef1fc1da-40b2-4165-e565-c0eb5264c114"
      },
      "source": [
        "!pip install pyspark\n"
      ],
      "execution_count": 1,
      "outputs": [
        {
          "output_type": "stream",
          "name": "stdout",
          "text": [
            "Collecting pyspark\n",
            "  Downloading pyspark-3.1.2.tar.gz (212.4 MB)\n",
            "\u001b[K     |████████████████████████████████| 212.4 MB 65 kB/s \n",
            "\u001b[?25hCollecting py4j==0.10.9\n",
            "  Downloading py4j-0.10.9-py2.py3-none-any.whl (198 kB)\n",
            "\u001b[K     |████████████████████████████████| 198 kB 67.0 MB/s \n",
            "\u001b[?25hBuilding wheels for collected packages: pyspark\n",
            "  Building wheel for pyspark (setup.py) ... \u001b[?25l\u001b[?25hdone\n",
            "  Created wheel for pyspark: filename=pyspark-3.1.2-py2.py3-none-any.whl size=212880768 sha256=99296d0a274c68a275a64cd3e0fdad70430e109328f08c8b9fcf43ac71ec7f34\n",
            "  Stored in directory: /root/.cache/pip/wheels/a5/0a/c1/9561f6fecb759579a7d863dcd846daaa95f598744e71b02c77\n",
            "Successfully built pyspark\n",
            "Installing collected packages: py4j, pyspark\n",
            "Successfully installed py4j-0.10.9 pyspark-3.1.2\n"
          ]
        }
      ]
    },
    {
      "cell_type": "code",
      "metadata": {
        "id": "KkhyeRZUg2kY"
      },
      "source": [
        "## iniciar sessão\n",
        "from pyspark.sql import *\n",
        "spark = SparkSession.builder.master(\"local[*]\").getOrCreate()"
      ],
      "execution_count": 2,
      "outputs": []
    },
    {
      "cell_type": "code",
      "metadata": {
        "id": "TN08aF9ehjJF"
      },
      "source": [
        "## importar funções\n",
        "from pyspark.sql.functions import *"
      ],
      "execution_count": 3,
      "outputs": []
    },
    {
      "cell_type": "code",
      "metadata": {
        "id": "H9OKdveoiEME"
      },
      "source": [
        "import pandas as pd\n",
        "import wget\n",
        "from zipfile import ZipFile "
      ],
      "execution_count": 8,
      "outputs": []
    },
    {
      "cell_type": "code",
      "metadata": {
        "colab": {
          "base_uri": "https://localhost:8080/",
          "height": 528
        },
        "id": "JFXK0ei7kkXi",
        "outputId": "abd527b9-11a8-4ae5-b476-ad6ee977e9a6"
      },
      "source": [
        "## Baixar arquivos\n",
        "\n",
        "url_base = \"http://dados.cvm.gov.br/dados/CIA_ABERTA/DOC/ITR/DADOS/\"\n",
        "arquivos_zip = []\n",
        "for ano in range(2011,2021):\n",
        "  arquivos_zip.append(f'itr_cia_aberta_{ano}.zip')\n",
        "for arq in arquivos_zip:\n",
        "  wget.download(url_base+arq)\n",
        "\n",
        "## Descompactar\n",
        "for arq in arquivos_zip:\n",
        "  ZipFile(arq, 'r').extractall('CVM')\n",
        "\n",
        "## Agrupar arquivos\n",
        "nomes = ['DRE_con']\n",
        "for nome in nomes:\n",
        "  arquivo = pd.DataFrame()\n",
        "  for ano in range(2011,2020):\n",
        "    arquivo = pd.concat([arquivo, pd.read_csv(f'CVM/itr_cia_aberta_{nome}_{ano}.csv',sep=';',decimal=',',encoding='ISO-8859-1')])\n",
        "  arquivo.to_csv(f'itr_cia_aberta_{nome}_2011_2020',index=False)"
      ],
      "execution_count": 9,
      "outputs": [
        {
          "output_type": "execute_result",
          "data": {
            "text/html": [
              "<div>\n",
              "<style scoped>\n",
              "    .dataframe tbody tr th:only-of-type {\n",
              "        vertical-align: middle;\n",
              "    }\n",
              "\n",
              "    .dataframe tbody tr th {\n",
              "        vertical-align: top;\n",
              "    }\n",
              "\n",
              "    .dataframe thead th {\n",
              "        text-align: right;\n",
              "    }\n",
              "</style>\n",
              "<table border=\"1\" class=\"dataframe\">\n",
              "  <thead>\n",
              "    <tr style=\"text-align: right;\">\n",
              "      <th></th>\n",
              "      <th>CNPJ_CIA</th>\n",
              "      <th>DT_REFER</th>\n",
              "      <th>VERSAO</th>\n",
              "      <th>DENOM_CIA</th>\n",
              "      <th>CD_CVM</th>\n",
              "      <th>GRUPO_DFP</th>\n",
              "      <th>MOEDA</th>\n",
              "      <th>ESCALA_MOEDA</th>\n",
              "      <th>ORDEM_EXERC</th>\n",
              "      <th>DT_INI_EXERC</th>\n",
              "      <th>DT_FIM_EXERC</th>\n",
              "      <th>CD_CONTA</th>\n",
              "      <th>DS_CONTA</th>\n",
              "      <th>VL_CONTA</th>\n",
              "      <th>ST_CONTA_FIXA</th>\n",
              "    </tr>\n",
              "  </thead>\n",
              "  <tbody>\n",
              "    <tr>\n",
              "      <th>0</th>\n",
              "      <td>00.001.180/0001-26</td>\n",
              "      <td>2011-03-31</td>\n",
              "      <td>1</td>\n",
              "      <td>CENTRAIS ELET BRAS S.A. - ELETROBRAS</td>\n",
              "      <td>2437</td>\n",
              "      <td>DF Consolidado - Demonstração do Resultado</td>\n",
              "      <td>REAL</td>\n",
              "      <td>MIL</td>\n",
              "      <td>PENÚLTIMO</td>\n",
              "      <td>2010-01-01</td>\n",
              "      <td>2010-03-31</td>\n",
              "      <td>3.01</td>\n",
              "      <td>Receita de Venda de Bens e/ou Serviços</td>\n",
              "      <td>6159172.0</td>\n",
              "      <td>S</td>\n",
              "    </tr>\n",
              "    <tr>\n",
              "      <th>1</th>\n",
              "      <td>00.001.180/0001-26</td>\n",
              "      <td>2011-03-31</td>\n",
              "      <td>1</td>\n",
              "      <td>CENTRAIS ELET BRAS S.A. - ELETROBRAS</td>\n",
              "      <td>2437</td>\n",
              "      <td>DF Consolidado - Demonstração do Resultado</td>\n",
              "      <td>REAL</td>\n",
              "      <td>MIL</td>\n",
              "      <td>ÚLTIMO</td>\n",
              "      <td>2011-01-01</td>\n",
              "      <td>2011-03-31</td>\n",
              "      <td>3.01</td>\n",
              "      <td>Receita de Venda de Bens e/ou Serviços</td>\n",
              "      <td>8551982.0</td>\n",
              "      <td>S</td>\n",
              "    </tr>\n",
              "    <tr>\n",
              "      <th>2</th>\n",
              "      <td>00.001.180/0001-26</td>\n",
              "      <td>2011-03-31</td>\n",
              "      <td>1</td>\n",
              "      <td>CENTRAIS ELET BRAS S.A. - ELETROBRAS</td>\n",
              "      <td>2437</td>\n",
              "      <td>DF Consolidado - Demonstração do Resultado</td>\n",
              "      <td>REAL</td>\n",
              "      <td>MIL</td>\n",
              "      <td>PENÚLTIMO</td>\n",
              "      <td>2010-01-01</td>\n",
              "      <td>2010-03-31</td>\n",
              "      <td>3.02</td>\n",
              "      <td>Custo dos Bens e/ou Serviços Vendidos</td>\n",
              "      <td>-960060.0</td>\n",
              "      <td>S</td>\n",
              "    </tr>\n",
              "    <tr>\n",
              "      <th>3</th>\n",
              "      <td>00.001.180/0001-26</td>\n",
              "      <td>2011-03-31</td>\n",
              "      <td>1</td>\n",
              "      <td>CENTRAIS ELET BRAS S.A. - ELETROBRAS</td>\n",
              "      <td>2437</td>\n",
              "      <td>DF Consolidado - Demonstração do Resultado</td>\n",
              "      <td>REAL</td>\n",
              "      <td>MIL</td>\n",
              "      <td>ÚLTIMO</td>\n",
              "      <td>2011-01-01</td>\n",
              "      <td>2011-03-31</td>\n",
              "      <td>3.02</td>\n",
              "      <td>Custo dos Bens e/ou Serviços Vendidos</td>\n",
              "      <td>-1127021.0</td>\n",
              "      <td>S</td>\n",
              "    </tr>\n",
              "    <tr>\n",
              "      <th>4</th>\n",
              "      <td>00.001.180/0001-26</td>\n",
              "      <td>2011-03-31</td>\n",
              "      <td>1</td>\n",
              "      <td>CENTRAIS ELET BRAS S.A. - ELETROBRAS</td>\n",
              "      <td>2437</td>\n",
              "      <td>DF Consolidado - Demonstração do Resultado</td>\n",
              "      <td>REAL</td>\n",
              "      <td>MIL</td>\n",
              "      <td>PENÚLTIMO</td>\n",
              "      <td>2010-01-01</td>\n",
              "      <td>2010-03-31</td>\n",
              "      <td>3.02.01</td>\n",
              "      <td>Encargos Setoriais</td>\n",
              "      <td>-340660.0</td>\n",
              "      <td>N</td>\n",
              "    </tr>\n",
              "  </tbody>\n",
              "</table>\n",
              "</div>"
            ],
            "text/plain": [
              "             CNPJ_CIA    DT_REFER  ...   VL_CONTA ST_CONTA_FIXA\n",
              "0  00.001.180/0001-26  2011-03-31  ...  6159172.0             S\n",
              "1  00.001.180/0001-26  2011-03-31  ...  8551982.0             S\n",
              "2  00.001.180/0001-26  2011-03-31  ...  -960060.0             S\n",
              "3  00.001.180/0001-26  2011-03-31  ... -1127021.0             S\n",
              "4  00.001.180/0001-26  2011-03-31  ...  -340660.0             N\n",
              "\n",
              "[5 rows x 15 columns]"
            ]
          },
          "metadata": {},
          "execution_count": 9
        }
      ]
    },
    {
      "cell_type": "code",
      "metadata": {
        "colab": {
          "base_uri": "https://localhost:8080/"
        },
        "id": "IRr5uc9klAkG",
        "outputId": "93e25264-8028-4d45-eee3-33fd01920ced"
      },
      "source": [
        "df = spark.read.csv('/content/itr_cia_aberta_DRE_con_2011_2020',header=True,sep=\",\",inferSchema=True)\n",
        "df.show()"
      ],
      "execution_count": 13,
      "outputs": [
        {
          "output_type": "stream",
          "name": "stdout",
          "text": [
            "+------------------+----------+------+--------------------+------+--------------------+-----+------------+-----------+------------+------------+----------+--------------------+----------+-------------+\n",
            "|          CNPJ_CIA|  DT_REFER|VERSAO|           DENOM_CIA|CD_CVM|           GRUPO_DFP|MOEDA|ESCALA_MOEDA|ORDEM_EXERC|DT_INI_EXERC|DT_FIM_EXERC|  CD_CONTA|            DS_CONTA|  VL_CONTA|ST_CONTA_FIXA|\n",
            "+------------------+----------+------+--------------------+------+--------------------+-----+------------+-----------+------------+------------+----------+--------------------+----------+-------------+\n",
            "|00.001.180/0001-26|2011-03-31|     1|CENTRAIS ELET BRA...|  2437|DF Consolidado - ...| REAL|         MIL|  PENÚLTIMO|  2010-01-01|  2010-03-31|      3.01|Receita de Venda ...| 6159172.0|            S|\n",
            "|00.001.180/0001-26|2011-03-31|     1|CENTRAIS ELET BRA...|  2437|DF Consolidado - ...| REAL|         MIL|     ÚLTIMO|  2011-01-01|  2011-03-31|      3.01|Receita de Venda ...| 8551982.0|            S|\n",
            "|00.001.180/0001-26|2011-03-31|     1|CENTRAIS ELET BRA...|  2437|DF Consolidado - ...| REAL|         MIL|  PENÚLTIMO|  2010-01-01|  2010-03-31|      3.02|Custo dos Bens e/...| -960060.0|            S|\n",
            "|00.001.180/0001-26|2011-03-31|     1|CENTRAIS ELET BRA...|  2437|DF Consolidado - ...| REAL|         MIL|     ÚLTIMO|  2011-01-01|  2011-03-31|      3.02|Custo dos Bens e/...|-1127021.0|            S|\n",
            "|00.001.180/0001-26|2011-03-31|     1|CENTRAIS ELET BRA...|  2437|DF Consolidado - ...| REAL|         MIL|  PENÚLTIMO|  2010-01-01|  2010-03-31|   3.02.01|  Encargos Setoriais| -340660.0|            N|\n",
            "|00.001.180/0001-26|2011-03-31|     1|CENTRAIS ELET BRA...|  2437|DF Consolidado - ...| REAL|         MIL|     ÚLTIMO|  2011-01-01|  2011-03-31|   3.02.01|  Encargos Setoriais| -398353.0|            N|\n",
            "|00.001.180/0001-26|2011-03-31|     1|CENTRAIS ELET BRA...|  2437|DF Consolidado - ...| REAL|         MIL|  PENÚLTIMO|  2010-01-01|  2010-03-31|   3.02.02|                ICMS| -224418.0|            N|\n",
            "|00.001.180/0001-26|2011-03-31|     1|CENTRAIS ELET BRA...|  2437|DF Consolidado - ...| REAL|         MIL|     ÚLTIMO|  2011-01-01|  2011-03-31|   3.02.02|                ICMS| -252475.0|            N|\n",
            "|00.001.180/0001-26|2011-03-31|     1|CENTRAIS ELET BRA...|  2437|DF Consolidado - ...| REAL|         MIL|  PENÚLTIMO|  2010-01-01|  2010-03-31|   3.02.03|        PASEP/COFINS| -394982.0|            N|\n",
            "|00.001.180/0001-26|2011-03-31|     1|CENTRAIS ELET BRA...|  2437|DF Consolidado - ...| REAL|         MIL|     ÚLTIMO|  2011-01-01|  2011-03-31|   3.02.03|        PASEP/COFINS| -476193.0|            N|\n",
            "|00.001.180/0001-26|2011-03-31|     1|CENTRAIS ELET BRA...|  2437|DF Consolidado - ...| REAL|         MIL|  PENÚLTIMO|  2010-01-01|  2010-03-31|      3.03|     Resultado Bruto| 5199112.0|            S|\n",
            "|00.001.180/0001-26|2011-03-31|     1|CENTRAIS ELET BRA...|  2437|DF Consolidado - ...| REAL|         MIL|     ÚLTIMO|  2011-01-01|  2011-03-31|      3.03|     Resultado Bruto| 7424961.0|            S|\n",
            "|00.001.180/0001-26|2011-03-31|     1|CENTRAIS ELET BRA...|  2437|DF Consolidado - ...| REAL|         MIL|  PENÚLTIMO|  2010-01-01|  2010-03-31|      3.04|Despesas/Receitas...|-4861068.0|            S|\n",
            "|00.001.180/0001-26|2011-03-31|     1|CENTRAIS ELET BRA...|  2437|DF Consolidado - ...| REAL|         MIL|     ÚLTIMO|  2011-01-01|  2011-03-31|      3.04|Despesas/Receitas...|-5281346.0|            S|\n",
            "|00.001.180/0001-26|2011-03-31|     1|CENTRAIS ELET BRA...|  2437|DF Consolidado - ...| REAL|         MIL|  PENÚLTIMO|  2010-01-01|  2010-03-31|   3.04.01| Despesas com Vendas|       0.0|            S|\n",
            "|00.001.180/0001-26|2011-03-31|     1|CENTRAIS ELET BRA...|  2437|DF Consolidado - ...| REAL|         MIL|     ÚLTIMO|  2011-01-01|  2011-03-31|   3.04.01| Despesas com Vendas|       0.0|            S|\n",
            "|00.001.180/0001-26|2011-03-31|     1|CENTRAIS ELET BRA...|  2437|DF Consolidado - ...| REAL|         MIL|  PENÚLTIMO|  2010-01-01|  2010-03-31|   3.04.02|Despesas Gerais e...|-5285273.0|            S|\n",
            "|00.001.180/0001-26|2011-03-31|     1|CENTRAIS ELET BRA...|  2437|DF Consolidado - ...| REAL|         MIL|     ÚLTIMO|  2011-01-01|  2011-03-31|   3.04.02|Despesas Gerais e...|-5745196.0|            S|\n",
            "|00.001.180/0001-26|2011-03-31|     1|CENTRAIS ELET BRA...|  2437|DF Consolidado - ...| REAL|         MIL|  PENÚLTIMO|  2010-01-01|  2010-03-31|3.04.02.01|Pessoal, Material...|-1545413.0|            N|\n",
            "|00.001.180/0001-26|2011-03-31|     1|CENTRAIS ELET BRA...|  2437|DF Consolidado - ...| REAL|         MIL|     ÚLTIMO|  2011-01-01|  2011-03-31|3.04.02.01|Pessoal, Material...|-1712648.0|            N|\n",
            "+------------------+----------+------+--------------------+------+--------------------+-----+------------+-----------+------------+------------+----------+--------------------+----------+-------------+\n",
            "only showing top 20 rows\n",
            "\n"
          ]
        }
      ]
    },
    {
      "cell_type": "code",
      "metadata": {
        "colab": {
          "base_uri": "https://localhost:8080/"
        },
        "id": "MiGzSPDkqQb1",
        "outputId": "af8b1f31-74a4-45f6-f863-bde3d865207b"
      },
      "source": [
        "#df.describe().show()\n",
        "df.select('DS_CONTA').dropDuplicates().head(10)"
      ],
      "execution_count": 66,
      "outputs": [
        {
          "output_type": "execute_result",
          "data": {
            "text/plain": [
              "[Row(DS_CONTA='Fornecimento de Energia Elétrica'),\n",
              " Row(DS_CONTA='Outras despesas administrativas'),\n",
              " Row(DS_CONTA='Encargos de transmissão'),\n",
              " Row(DS_CONTA='Juros/Custos Debêntures'),\n",
              " Row(DS_CONTA='Depreciação Amortização'),\n",
              " Row(DS_CONTA='Variação da Provisão de  Sinistros Ocorridos mas não Avisados'),\n",
              " Row(DS_CONTA='Planos previdenciário e assistencial'),\n",
              " Row(DS_CONTA='Operações de crédito'),\n",
              " Row(DS_CONTA='Custo do fornecimento de energia eletrica'),\n",
              " Row(DS_CONTA='Energia Elétrica Comprada para Revenda - PROINFA')]"
            ]
          },
          "metadata": {},
          "execution_count": 66
        }
      ]
    },
    {
      "cell_type": "code",
      "metadata": {
        "colab": {
          "base_uri": "https://localhost:8080/"
        },
        "id": "PR88fuYcqeDM",
        "outputId": "ba254b10-e974-4e40-aeed-1989ed2ff36f"
      },
      "source": [
        "df.createOrReplaceTempView(\"DF\")\n",
        "spark.sql(\"select * FROM DF where CNPJ_CIA='07.628.528/0001-59' AND ORDEM_EXERC <> 'ÚLTIMO' and DS_CONTA='Resultado Financeiro' and CAST( months_between( DT_FIM_EXERC, DT_INI_EXERC ) AS INT )=2 order by CNPJ_CIA,DT_FIM_EXERC\").show()\n"
      ],
      "execution_count": 65,
      "outputs": [
        {
          "output_type": "stream",
          "name": "stdout",
          "text": [
            "+------------------+----------+------+--------------------+------+--------------------+-----+------------+-----------+------------+------------+--------+--------------------+--------+-------------+\n",
            "|          CNPJ_CIA|  DT_REFER|VERSAO|           DENOM_CIA|CD_CVM|           GRUPO_DFP|MOEDA|ESCALA_MOEDA|ORDEM_EXERC|DT_INI_EXERC|DT_FIM_EXERC|CD_CONTA|            DS_CONTA|VL_CONTA|ST_CONTA_FIXA|\n",
            "+------------------+----------+------+--------------------+------+--------------------+-----+------------+-----------+------------+------------+--------+--------------------+--------+-------------+\n",
            "|07.628.528/0001-59|2011-09-30|     2|BRASILAGRO - CIA ...| 20036|DF Consolidado - ...| REAL|         MIL|  PENÚLTIMO|  2010-07-01|  2010-09-30|    3.06|Resultado Financeiro|  2592.0|            S|\n",
            "|07.628.528/0001-59|2011-12-31|     2|BRASILAGRO - CIA ...| 20036|DF Consolidado - ...| REAL|         MIL|  PENÚLTIMO|  2010-10-01|  2010-12-31|    3.06|Resultado Financeiro|   541.0|            S|\n",
            "|07.628.528/0001-59|2012-03-31|     1|BRASILAGRO - CIA ...| 20036|DF Consolidado - ...| REAL|         MIL|  PENÚLTIMO|  2011-01-01|  2011-03-31|    3.06|Resultado Financeiro|  -867.0|            S|\n",
            "|07.628.528/0001-59|2012-09-30|     1|BRASILAGRO - CIA ...| 20036|DF Consolidado - ...| REAL|         MIL|  PENÚLTIMO|  2011-07-01|  2011-09-30|    3.06|Resultado Financeiro| 11187.0|            S|\n",
            "|07.628.528/0001-59|2012-12-31|     1|BRASILAGRO - CIA ...| 20036|DF Consolidado - ...| REAL|         MIL|  PENÚLTIMO|  2011-10-01|  2011-12-31|    3.06|Resultado Financeiro|  1087.0|            S|\n",
            "|07.628.528/0001-59|2013-03-31|     1|BRASILAGRO - CIA ...| 20036|DF Consolidado - ...| REAL|         MIL|  PENÚLTIMO|  2012-01-01|  2012-03-31|    3.06|Resultado Financeiro| -4381.0|            S|\n",
            "|07.628.528/0001-59|2013-09-30|     1|BRASILAGRO - CIA ...| 20036|DF Consolidado - ...| REAL|         MIL|  PENÚLTIMO|  2012-07-01|  2012-09-30|    3.06|Resultado Financeiro| -7990.0|            S|\n",
            "|07.628.528/0001-59|2013-12-31|     1|BRASILAGRO - CIA ...| 20036|DF Consolidado - ...| REAL|         MIL|  PENÚLTIMO|  2012-10-01|  2012-12-31|    3.06|Resultado Financeiro|     0.0|            S|\n",
            "|07.628.528/0001-59|2014-03-31|     2|BRASILAGRO - CIA ...| 20036|DF Consolidado - ...| REAL|         MIL|  PENÚLTIMO|  2013-01-01|  2013-03-31|    3.06|Resultado Financeiro|  3177.0|            S|\n",
            "|07.628.528/0001-59|2014-09-30|     1|BRASILAGRO - CIA ...| 20036|DF Consolidado - ...| REAL|         MIL|  PENÚLTIMO|  2013-07-01|  2013-09-30|    3.06|Resultado Financeiro|  2668.0|            S|\n",
            "|07.628.528/0001-59|2014-12-31|     3|BRASILAGRO - CIA ...| 20036|DF Consolidado - ...| REAL|         MIL|  PENÚLTIMO|  2013-10-01|  2013-12-31|    3.06|Resultado Financeiro|  6135.0|            S|\n",
            "|07.628.528/0001-59|2015-03-31|     2|BRASILAGRO - CIA ...| 20036|DF Consolidado - ...| REAL|         MIL|  PENÚLTIMO|  2014-01-01|  2014-03-31|    3.06|Resultado Financeiro| -6315.0|            S|\n",
            "|07.628.528/0001-59|2015-09-30|     1|BRASILAGRO - CIA ...| 20036|DF Consolidado - ...| REAL|         MIL|  PENÚLTIMO|  2014-07-01|  2014-09-30|    3.06|Resultado Financeiro|  5641.0|            S|\n",
            "|07.628.528/0001-59|2015-12-31|     1|BRASILAGRO - CIA ...| 20036|DF Consolidado - ...| REAL|         MIL|  PENÚLTIMO|  2014-10-01|  2014-12-31|    3.06|Resultado Financeiro| 10366.0|            S|\n",
            "|07.628.528/0001-59|2016-03-31|     1|BRASILAGRO - CIA ...| 20036|DF Consolidado - ...| REAL|         MIL|  PENÚLTIMO|  2015-01-01|  2015-03-31|    3.06|Resultado Financeiro| 13760.0|            S|\n",
            "|07.628.528/0001-59|2016-09-30|     1|BRASILAGRO - CIA ...| 20036|DF Consolidado - ...| REAL|         MIL|  PENÚLTIMO|  2015-07-01|  2015-09-30|    3.06|Resultado Financeiro| 63504.0|            S|\n",
            "|07.628.528/0001-59|2016-12-31|     1|BRASILAGRO - CIA ...| 20036|DF Consolidado - ...| REAL|         MIL|  PENÚLTIMO|  2015-10-01|  2015-12-31|    3.06|Resultado Financeiro|  1179.0|            S|\n",
            "|07.628.528/0001-59|2017-03-31|     1|BRASILAGRO - CIA ...| 20036|DF Consolidado - ...| REAL|         MIL|  PENÚLTIMO|  2016-01-01|  2016-03-31|    3.06|Resultado Financeiro| -6898.0|            S|\n",
            "|07.628.528/0001-59|2017-09-30|     1|BRASILAGRO - CIA ...| 20036|DF Consolidado - ...| REAL|         MIL|  PENÚLTIMO|  2016-07-01|  2016-09-30|    3.06|Resultado Financeiro| 13352.0|            S|\n",
            "|07.628.528/0001-59|2017-12-31|     1|BRASILAGRO - CIA ...| 20036|DF Consolidado - ...| REAL|         MIL|  PENÚLTIMO|  2016-10-01|  2016-12-31|    3.06|Resultado Financeiro|  3068.0|            S|\n",
            "+------------------+----------+------+--------------------+------+--------------------+-----+------------+-----------+------------+------------+--------+--------------------+--------+-------------+\n",
            "only showing top 20 rows\n",
            "\n"
          ]
        }
      ]
    },
    {
      "cell_type": "code",
      "metadata": {
        "id": "uPpiY2AarPWq"
      },
      "source": [
        ""
      ],
      "execution_count": null,
      "outputs": []
    }
  ]
}